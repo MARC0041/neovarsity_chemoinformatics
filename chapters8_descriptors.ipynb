{
 "cells": [
  {
   "cell_type": "markdown",
   "metadata": {},
   "source": [
    "1. relation to mol\n",
    "    - integral (e.g. polar surface area)\n",
    "    - fragment (e.g. # carbonyl groups)\n",
    "2. dimensionality\n",
    "    - MW\n",
    "    - 2D (wiener index)\n",
    "    - 3D (mol volume)\n",
    "3. proprietory\n",
    "    - open source (rdkit)\n",
    "    - commercial (alvaDesc)\n"
   ]
  },
  {
   "cell_type": "code",
   "execution_count": 2,
   "metadata": {},
   "outputs": [],
   "source": [
    "from rdkit import Chem\n",
    "from rdkit.Chem import AllChem, Draw, PandasTools, Descriptors, rdMolDescriptors, GraphDescriptors\n",
    "from rdkit import DataStructs\n",
    "from rdkit.ML.Descriptors import MoleculeDescriptors\n",
    "import copy\n",
    "import numpy as np\n",
    "import pandas as pd\n",
    "import pickle\n",
    "\n",
    "from rdkit.Chem.MolStandardize import rdMolStandardize\n",
    "\n",
    "from IPython.display import Image\n",
    "from IPython.display import SVG\n",
    "\n",
    "from rdkit import RDLogger\n",
    "lg = RDLogger.logger()\n",
    "lg.setLevel(RDLogger.ERROR)"
   ]
  },
  {
   "cell_type": "code",
   "execution_count": 3,
   "metadata": {},
   "outputs": [
    {
     "data": {
      "image/png": "[encoded data removed]",
      "text/plain": [
       "<rdkit.Chem.rdchem.Mol at 0x1121e94d0>"
      ]
     },
     "execution_count": 3,
     "metadata": {},
     "output_type": "execute_result"
    }
   ],
   "source": [
    "cox2_sdf = r'assets/COX2_inhibitors_final.sdf'\n",
    "df = PandasTools.LoadSDF(cox2_sdf, molColName='Mol')\n",
    "m0 = df['Mol'][0]\n",
    "m0"
   ]
  },
  {
   "cell_type": "code",
   "execution_count": 4,
   "metadata": {},
   "outputs": [
    {
     "data": {
      "text/plain": [
       "2"
      ]
     },
     "execution_count": 4,
     "metadata": {},
     "output_type": "execute_result"
    }
   ],
   "source": [
    "# first submodule in rdkit - rdMolDescriptors\n",
    "m_copy0 = copy.deepcopy(m0)\n",
    "rdMolDescriptors.CalcNumAromaticRings(m_copy0)"
   ]
  },
  {
   "cell_type": "code",
   "execution_count": 5,
   "metadata": {},
   "outputs": [
    {
     "data": {
      "text/plain": [
       "126"
      ]
     },
     "execution_count": 5,
     "metadata": {},
     "output_type": "execute_result"
    }
   ],
   "source": [
    "# second submodule in rdkit - Descriptors\n",
    "Descriptors.NumValenceElectrons(m_copy0)"
   ]
  },
  {
   "cell_type": "code",
   "execution_count": 6,
   "metadata": {},
   "outputs": [
    {
     "data": {
      "text/plain": [
       "np.float64(2.0182561206423846)"
      ]
     },
     "execution_count": 6,
     "metadata": {},
     "output_type": "execute_result"
    }
   ],
   "source": [
    "# third submodule in rdkit - GraphDescriptors\n",
    "GraphDescriptors.BalabanJ(m_copy0)"
   ]
  },
  {
   "cell_type": "code",
   "execution_count": 7,
   "metadata": {},
   "outputs": [
    {
     "data": {
      "text/plain": [
       "294.5040000000001"
      ]
     },
     "execution_count": 7,
     "metadata": {},
     "output_type": "execute_result"
    }
   ],
   "source": [
    "# misc\n",
    "m_copy0 = Chem.AddHs(m_copy0)\n",
    "AllChem.Compute2DCoords(m_copy0)\n",
    "AllChem.EmbedMolecule(m_copy0)\n",
    "AllChem.ComputeMolVolume(m_copy0)"
   ]
  },
  {
   "cell_type": "code",
   "execution_count": 8,
   "metadata": {},
   "outputs": [
    {
     "data": {
      "text/plain": [
       "0"
      ]
     },
     "execution_count": 8,
     "metadata": {},
     "output_type": "execute_result"
    }
   ],
   "source": [
    "# standardisation problems\n",
    "chloroethan_smi = 'CCCl'\n",
    "mol_chloroethane = Chem.MolFromSmiles(chloroethan_smi)\n",
    "rdMolDescriptors.CalcNumHBA(mol_chloroethane) # H-bond acceptors\n",
    "# BUT it is not 0! chlorine should be able to act as a H-bond acceptor"
   ]
  },
  {
   "cell_type": "code",
   "execution_count": 9,
   "metadata": {},
   "outputs": [
    {
     "data": {
      "text/plain": [
       "[2, 126, np.float64(2.4007034875528905), 296.4000000000001]"
      ]
     },
     "execution_count": 9,
     "metadata": {},
     "output_type": "execute_result"
    }
   ],
   "source": [
    "# multicompounds, multiproperty descriptors\n",
    "desc_bundles = []\n",
    "desc_bundles.append(rdMolDescriptors.CalcNumAromaticRings(m_copy0))\n",
    "desc_bundles.append(Descriptors.NumValenceElectrons(m_copy0))\n",
    "desc_bundles.append(GraphDescriptors.BalabanJ(m_copy0))\n",
    "\n",
    "m_copy0 = Chem.AddHs(m_copy0)\n",
    "AllChem.Compute2DCoords(m_copy0)\n",
    "AllChem.EmbedMolecule(m_copy0)\n",
    "AllChem.ComputeMolVolume(m_copy0)\n",
    "desc_bundles.append(AllChem.ComputeMolVolume(m_copy0))\n",
    "desc_bundles"
   ]
  },
  {
   "cell_type": "markdown",
   "metadata": {},
   "source": [
    "# MACCS"
   ]
  },
  {
   "cell_type": "code",
   "execution_count": 10,
   "metadata": {},
   "outputs": [
    {
     "data": {
      "text/plain": [
       "(167,)"
      ]
     },
     "execution_count": 10,
     "metadata": {},
     "output_type": "execute_result"
    }
   ],
   "source": [
    "# maccs\n",
    "import BitVector # conda install BitVector\n",
    "from rdkit.Chem import MACCSkeys\n",
    "maccs_desc = np.array(rdMolDescriptors.GetMACCSKeysFingerprint(m_copy0))\n",
    "# print(type(np.where(maccs_desc == 1))) # tuple\n",
    "ones_bits = list(np.where(maccs_desc == 1)[0])\n",
    "# bv = BitVector.BitVector(bitlist = list(maccs_desc))\n",
    "# bv\n",
    "maccs_desc.shape"
   ]
  },
  {
   "cell_type": "code",
   "execution_count": 11,
   "metadata": {},
   "outputs": [
    {
     "data": {
      "text/plain": [
       "166"
      ]
     },
     "execution_count": 11,
     "metadata": {},
     "output_type": "execute_result"
    }
   ],
   "source": [
    "len(MACCSkeys.smartsPatts)"
   ]
  },
  {
   "cell_type": "markdown",
   "metadata": {},
   "source": [
    "The guy in neovarsity did it wrong! I think the first bit should not be mapped to anything, while the last bit should not be None"
   ]
  },
  {
   "cell_type": "code",
   "execution_count": 12,
   "metadata": {},
   "outputs": [
    {
     "name": "stdout",
     "output_type": "stream",
     "text": [
      "67\n",
      "67\n",
      "167\n",
      "167\n",
      "166\n"
     ]
    },
    {
     "data": {
      "text/html": [
       "<div>\n",
       "<style scoped>\n",
       "    .dataframe tbody tr th:only-of-type {\n",
       "        vertical-align: middle;\n",
       "    }\n",
       "\n",
       "    .dataframe tbody tr th {\n",
       "        vertical-align: top;\n",
       "    }\n",
       "\n",
       "    .dataframe thead th {\n",
       "        text-align: right;\n",
       "    }\n",
       "</style>\n",
       "<table border=\"1\" class=\"dataframe\">\n",
       "  <thead>\n",
       "    <tr style=\"text-align: right;\">\n",
       "      <th></th>\n",
       "      <th>0</th>\n",
       "    </tr>\n",
       "  </thead>\n",
       "  <tbody>\n",
       "    <tr>\n",
       "      <th>(?, 0)</th>\n",
       "      <td>0</td>\n",
       "    </tr>\n",
       "    <tr>\n",
       "      <th>([#104], 0)</th>\n",
       "      <td>0</td>\n",
       "    </tr>\n",
       "    <tr>\n",
       "      <th>([#32,#33,#34,#50,#51,#52,#82,#83,#84], 0)</th>\n",
       "      <td>0</td>\n",
       "    </tr>\n",
       "    <tr>\n",
       "      <th>([Ac,Th,Pa,U,Np,Pu,Am,Cm,Bk,Cf,Es,Fm,Md,No,Lr], 0)</th>\n",
       "      <td>0</td>\n",
       "    </tr>\n",
       "    <tr>\n",
       "      <th>([Sc,Ti,Y,Zr,Hf], 0)</th>\n",
       "      <td>0</td>\n",
       "    </tr>\n",
       "    <tr>\n",
       "      <th>...</th>\n",
       "      <td>...</td>\n",
       "    </tr>\n",
       "    <tr>\n",
       "      <th>(*1~*~*~*~*~*~1, 0)</th>\n",
       "      <td>1</td>\n",
       "    </tr>\n",
       "    <tr>\n",
       "      <th>([#8], 0)</th>\n",
       "      <td>1</td>\n",
       "    </tr>\n",
       "    <tr>\n",
       "      <th>([R], 0)</th>\n",
       "      <td>1</td>\n",
       "    </tr>\n",
       "    <tr>\n",
       "      <th>(?, 0)</th>\n",
       "      <td>1</td>\n",
       "    </tr>\n",
       "    <tr>\n",
       "      <th>None</th>\n",
       "      <td>0</td>\n",
       "    </tr>\n",
       "  </tbody>\n",
       "</table>\n",
       "<p>167 rows × 1 columns</p>\n",
       "</div>"
      ],
      "text/plain": [
       "                                                    0\n",
       "(?, 0)                                              0\n",
       "([#104], 0)                                         0\n",
       "([#32,#33,#34,#50,#51,#52,#82,#83,#84], 0)          0\n",
       "([Ac,Th,Pa,U,Np,Pu,Am,Cm,Bk,Cf,Es,Fm,Md,No,Lr], 0)  0\n",
       "([Sc,Ti,Y,Zr,Hf], 0)                                0\n",
       "...                                                ..\n",
       "(*1~*~*~*~*~*~1, 0)                                 1\n",
       "([#8], 0)                                           1\n",
       "([R], 0)                                            1\n",
       "(?, 0)                                              1\n",
       "None                                                0\n",
       "\n",
       "[167 rows x 1 columns]"
      ]
     },
     "execution_count": 12,
     "metadata": {},
     "output_type": "execute_result"
    }
   ],
   "source": [
    "present_list = np.where(maccs_desc == 1)[0]\n",
    "print(len(present_list))\n",
    "# getting the indices of the maccs keys which is ==1 \n",
    "l = list(map(MACCSkeys.smartsPatts.get, present_list)) # MACCSkeys.smartsPatts is a dict\n",
    "print(len(l))\n",
    "# ()'[#6]~[#16]~[#7]', NUMBER) means that if the pattern appears >NUMBER time, it is true. \n",
    "\n",
    "# turning into a df\n",
    "# all_maccs_idx = list(range(1, 1+len(MACCSkeys.smartsPatts.keys())))\n",
    "all_maccs_idx = list(range(1, 1+len(maccs_desc)))\n",
    "# all_maccs_idx = list(MACCSkeys.smartsPatts.keys())\n",
    "maccs_df = pd.DataFrame(maccs_desc)\n",
    "maccs_df.index = list(map(MACCSkeys.smartsPatts.get, all_maccs_idx))\n",
    "print(len(maccs_df))\n",
    "print(len(list(map(MACCSkeys.smartsPatts.get, all_maccs_idx))))\n",
    "print(len(MACCSkeys.smartsPatts))\n",
    "maccs_df"
   ]
  },
  {
   "cell_type": "code",
   "execution_count": 13,
   "metadata": {},
   "outputs": [],
   "source": [
    "# NOTE THAT THERE IS A NONE at the End\n",
    "# This is because maccs tries to match the keys in smartpatts to the maccs_desc. so actually the first bit doesn't do anything"
   ]
  },
  {
   "cell_type": "code",
   "execution_count": 14,
   "metadata": {},
   "outputs": [
    {
     "data": {
      "text/html": [
       "<div>\n",
       "<style scoped>\n",
       "    .dataframe tbody tr th:only-of-type {\n",
       "        vertical-align: middle;\n",
       "    }\n",
       "\n",
       "    .dataframe tbody tr th {\n",
       "        vertical-align: top;\n",
       "    }\n",
       "\n",
       "    .dataframe thead th {\n",
       "        text-align: right;\n",
       "    }\n",
       "</style>\n",
       "<table border=\"1\" class=\"dataframe\">\n",
       "  <thead>\n",
       "    <tr style=\"text-align: right;\">\n",
       "      <th></th>\n",
       "      <th>0</th>\n",
       "    </tr>\n",
       "  </thead>\n",
       "  <tbody>\n",
       "    <tr>\n",
       "      <th>None</th>\n",
       "      <td>0</td>\n",
       "    </tr>\n",
       "    <tr>\n",
       "      <th>(?, 0)</th>\n",
       "      <td>1</td>\n",
       "    </tr>\n",
       "    <tr>\n",
       "      <th>([#104], 0)</th>\n",
       "      <td>2</td>\n",
       "    </tr>\n",
       "    <tr>\n",
       "      <th>([#32,#33,#34,#50,#51,#52,#82,#83,#84], 0)</th>\n",
       "      <td>3</td>\n",
       "    </tr>\n",
       "  </tbody>\n",
       "</table>\n",
       "</div>"
      ],
      "text/plain": [
       "                                            0\n",
       "None                                        0\n",
       "(?, 0)                                      1\n",
       "([#104], 0)                                 2\n",
       "([#32,#33,#34,#50,#51,#52,#82,#83,#84], 0)  3"
      ]
     },
     "execution_count": 14,
     "metadata": {},
     "output_type": "execute_result"
    }
   ],
   "source": [
    "d = {\n",
    "    1: ('?', 0),\n",
    "    2: ('[#104]', 0),\n",
    "    3: ('[#32,#33,#34,#50,#51,#52,#82,#83,#84]', 0)\n",
    "    }\n",
    "a = [0,1,2,3] # matching to index -- THE FIRST BIT SHOULD ALWAYS BE 0 FOR MACCS - https://forum.knime.com/t/rdkit-fingerprint-node-and-cdk-fingerprints-node-gives-different-maccs-keys/13149 \n",
    "\n",
    "\n",
    "\n",
    "df = pd.DataFrame(a)\n",
    "df.index = list(map(d.get, range(4))) # SHOULD NOT BE DOING WHATEVER WEIRD +1 thing the guy is doing\n",
    "df"
   ]
  },
  {
   "cell_type": "markdown",
   "metadata": {},
   "source": [
    "## Semantic based fingerprint"
   ]
  },
  {
   "cell_type": "markdown",
   "metadata": {},
   "source": [
    "- go to https://pubchem.ncbi.nlm.nih.gov/bioassay/1224848 \n",
    "- download csv file. \n",
    "- modify csv file so that it does not have weird rows"
   ]
  },
  {
   "cell_type": "code",
   "execution_count": 15,
   "metadata": {},
   "outputs": [
    {
     "name": "stderr",
     "output_type": "stream",
     "text": [
      "/var/folders/zs/8v8rltc50nd745dlpz74pvrh0000gn/T/ipykernel_85957/2071319854.py:2: DtypeWarning: Columns (129,134,141,169,174,181,209,214,221,249,254,261,289,294,301,329,334,341,369,374,381,409,414,421,449,454,461,489,494,501,529,534,541,569,574,581,609,614,621,649,654,661,689,694,701,729,734,741,769,774,781,809,814,821,849,854,861,889,894,901,929,934,941,969,974,981,1009,1014,1021,1049,1054,1061,1089,1094,1101,1129,1134,1141,1169,1174,1181,1209,1214,1221,1249,1254,1261,1289,1294,1301,1329,1334,1341,1369,1374,1381,1409,1414,1421,1449,1454,1461,1489,1494,1501,1529,1534,1541,1569,1574,1581,1609,1614,1621,1649,1654,1661,1689,1694,1701,1729,1734,1741,1769,1774,1781,1809,1814,1821,1849,1854,1861,1889,1894,1901,1929,1934,1941,1969,1974,1981,2009,2014,2021) have mixed types. Specify dtype option on import or set low_memory=False.\n",
      "  estrogen_related_receptor_antogonist = pd.read_csv(tox21_qhts_path)\n"
     ]
    },
    {
     "name": "stdout",
     "output_type": "stream",
     "text": [
      "Index(['PUBCHEM_RESULT_TAG', 'PUBCHEM_SID', 'PUBCHEM_CID',\n",
      "       'PUBCHEM_EXT_DATASOURCE_SMILES', 'PUBCHEM_ACTIVITY_OUTCOME',\n",
      "       'PUBCHEM_ACTIVITY_SCORE', 'PUBCHEM_ACTIVITY_URL',\n",
      "       'PUBCHEM_ASSAYDATA_COMMENT', 'Phenotype-Replicate_1',\n",
      "       'Potency-Replicate_1',\n",
      "       ...\n",
      "       'Activity at 18.95 uM-Replicate_51',\n",
      "       'Activity at 42.46 uM-Replicate_51',\n",
      "       'Activity at 92.41 uM-Replicate_51',\n",
      "       'Activity at 240.3 uM-Replicate_51',\n",
      "       'Activity at 872.4 uM-Replicate_51',\n",
      "       'Activity at 1849.0 uM-Replicate_51',\n",
      "       'Activity at 4135.0 uM-Replicate_51',\n",
      "       'Activity at 9246.0 uM-Replicate_51',\n",
      "       'Activity at 20670.0 uM-Replicate_51',\n",
      "       'Activity at 46230.0 uM-Replicate_51'],\n",
      "      dtype='object', length=2049)\n"
     ]
    },
    {
     "data": {
      "image/png": "[encoded data removed]",
      "text/plain": [
       "<rdkit.Chem.rdchem.Mol at 0x17e0f91c0>"
      ]
     },
     "execution_count": 15,
     "metadata": {},
     "output_type": "execute_result"
    }
   ],
   "source": [
    "tox21_qhts_path = r\"assets/AID_1224848_datatable_modified.csv\"\n",
    "estrogen_related_receptor_antogonist = pd.read_csv(tox21_qhts_path)\n",
    "print(estrogen_related_receptor_antogonist.columns)\n",
    "estrogen_related_receptor_antogonist_clean = estrogen_related_receptor_antogonist.dropna(subset=['PUBCHEM_EXT_DATASOURCE_SMILES'])\n",
    "mol_list = [Chem.MolFromSmiles(smi) for smi in estrogen_related_receptor_antogonist_clean['PUBCHEM_EXT_DATASOURCE_SMILES']]\n",
    "mol_list[0]"
   ]
  },
  {
   "cell_type": "code",
   "execution_count": 16,
   "metadata": {},
   "outputs": [
    {
     "name": "stdout",
     "output_type": "stream",
     "text": [
      "['Active' 'Inactive' 'Inconclusive']\n",
      "9522\n",
      "8667\n",
      "['PUBCHEM_RESULT_TAG', 'PUBCHEM_SID', 'PUBCHEM_CID', 'PUBCHEM_EXT_DATASOURCE_SMILES', 'PUBCHEM_ACTIVITY_OUTCOME', 'PUBCHEM_ACTIVITY_SCORE', 'PUBCHEM_ACTIVITY_URL', 'PUBCHEM_ASSAYDATA_COMMENT', 'Phenotype-Replicate_1', 'Potency-Replicate_1', 'Efficacy-Replicate_1', 'Analysis Comment-Replicate_1', 'Activity_Score-Replicate_1', 'Curve_Description-Replicate_1', 'Fit_LogAC50-Replicate_1', 'Fit_HillSlope-Replicate_1', 'Fit_R2-Replicate_1', 'Fit_InfiniteActivity-Replicate_1', 'Fit_ZeroActivity-Replicate_1', 'Fit_CurveClass-Replicate_1', 'Excluded_Points-Replicate_1', 'Max_Response-Replicate_1', 'Activity at 0.0000060039 uM-Replicate_1', 'Activity at 0.0000137707 uM-Replicate_1', 'Activity at 0.0000545120 uM-Replicate_1', 'Activity at 0.0001296300 uM-Replicate_1', 'Activity at 0.0003002588 uM-Replicate_1', 'Activity at 0.0006197232 uM-Replicate_1', 'Activity at 0.00170 uM-Replicate_1', 'Activity at 0.00522 uM-Replicate_1']\n"
     ]
    }
   ],
   "source": [
    "print(np.unique(estrogen_related_receptor_antogonist_clean['PUBCHEM_ACTIVITY_OUTCOME']))\n",
    "# remove inconclusive results\n",
    "print(len(estrogen_related_receptor_antogonist_clean))\n",
    "estrogen_related_receptor_antogonist_clean_noinconclusive = copy.deepcopy(estrogen_related_receptor_antogonist_clean.loc[estrogen_related_receptor_antogonist_clean['PUBCHEM_ACTIVITY_OUTCOME'] != 'Inconclusive'])\n",
    "print(len(estrogen_related_receptor_antogonist_clean_noinconclusive))\n",
    "print(list(estrogen_related_receptor_antogonist_clean.columns[:30]))"
   ]
  },
  {
   "cell_type": "code",
   "execution_count": 17,
   "metadata": {},
   "outputs": [
    {
     "data": {
      "text/html": [
       "<div>\n",
       "<style scoped>\n",
       "    .dataframe tbody tr th:only-of-type {\n",
       "        vertical-align: middle;\n",
       "    }\n",
       "\n",
       "    .dataframe tbody tr th {\n",
       "        vertical-align: top;\n",
       "    }\n",
       "\n",
       "    .dataframe thead th {\n",
       "        text-align: right;\n",
       "    }\n",
       "</style>\n",
       "<table border=\"1\" class=\"dataframe\">\n",
       "  <thead>\n",
       "    <tr style=\"text-align: right;\">\n",
       "      <th></th>\n",
       "      <th>PUBCHEM_RESULT_TAG</th>\n",
       "      <th>PUBCHEM_SID</th>\n",
       "      <th>PUBCHEM_CID</th>\n",
       "      <th>PUBCHEM_ACTIVITY_SCORE</th>\n",
       "      <th>PUBCHEM_ASSAYDATA_COMMENT</th>\n",
       "      <th>Potency-Replicate_1</th>\n",
       "      <th>Efficacy-Replicate_1</th>\n",
       "      <th>Analysis Comment-Replicate_1</th>\n",
       "      <th>Activity_Score-Replicate_1</th>\n",
       "      <th>Fit_LogAC50-Replicate_1</th>\n",
       "      <th>...</th>\n",
       "      <th>Activity at 18.95 uM-Replicate_51</th>\n",
       "      <th>Activity at 42.46 uM-Replicate_51</th>\n",
       "      <th>Activity at 92.41 uM-Replicate_51</th>\n",
       "      <th>Activity at 240.3 uM-Replicate_51</th>\n",
       "      <th>Activity at 872.4 uM-Replicate_51</th>\n",
       "      <th>Activity at 1849.0 uM-Replicate_51</th>\n",
       "      <th>Activity at 4135.0 uM-Replicate_51</th>\n",
       "      <th>Activity at 9246.0 uM-Replicate_51</th>\n",
       "      <th>Activity at 20670.0 uM-Replicate_51</th>\n",
       "      <th>Activity at 46230.0 uM-Replicate_51</th>\n",
       "    </tr>\n",
       "  </thead>\n",
       "  <tbody>\n",
       "    <tr>\n",
       "      <th>count</th>\n",
       "      <td>8667.000000</td>\n",
       "      <td>8.667000e+03</td>\n",
       "      <td>8.667000e+03</td>\n",
       "      <td>8667.000000</td>\n",
       "      <td>0.0</td>\n",
       "      <td>1758.000000</td>\n",
       "      <td>1758.000000</td>\n",
       "      <td>0.0</td>\n",
       "      <td>8667.000000</td>\n",
       "      <td>5350.000000</td>\n",
       "      <td>...</td>\n",
       "      <td>18.000000</td>\n",
       "      <td>18.000000</td>\n",
       "      <td>18.000000</td>\n",
       "      <td>0.0</td>\n",
       "      <td>0.0</td>\n",
       "      <td>0.0</td>\n",
       "      <td>0.0</td>\n",
       "      <td>0.0</td>\n",
       "      <td>0.0</td>\n",
       "      <td>0.0</td>\n",
       "    </tr>\n",
       "    <tr>\n",
       "      <th>mean</th>\n",
       "      <td>4839.775932</td>\n",
       "      <td>1.544132e+08</td>\n",
       "      <td>3.719843e+06</td>\n",
       "      <td>8.646821</td>\n",
       "      <td>NaN</td>\n",
       "      <td>30.782330</td>\n",
       "      <td>101.270710</td>\n",
       "      <td>NaN</td>\n",
       "      <td>8.646821</td>\n",
       "      <td>-5.234019</td>\n",
       "      <td>...</td>\n",
       "      <td>4.015583</td>\n",
       "      <td>3.683639</td>\n",
       "      <td>5.931661</td>\n",
       "      <td>NaN</td>\n",
       "      <td>NaN</td>\n",
       "      <td>NaN</td>\n",
       "      <td>NaN</td>\n",
       "      <td>NaN</td>\n",
       "      <td>NaN</td>\n",
       "      <td>NaN</td>\n",
       "    </tr>\n",
       "    <tr>\n",
       "      <th>std</th>\n",
       "      <td>2803.022750</td>\n",
       "      <td>2.213114e+07</td>\n",
       "      <td>1.486420e+07</td>\n",
       "      <td>22.207256</td>\n",
       "      <td>NaN</td>\n",
       "      <td>267.766047</td>\n",
       "      <td>50.693578</td>\n",
       "      <td>NaN</td>\n",
       "      <td>22.207256</td>\n",
       "      <td>1.220537</td>\n",
       "      <td>...</td>\n",
       "      <td>47.279303</td>\n",
       "      <td>51.303823</td>\n",
       "      <td>45.357903</td>\n",
       "      <td>NaN</td>\n",
       "      <td>NaN</td>\n",
       "      <td>NaN</td>\n",
       "      <td>NaN</td>\n",
       "      <td>NaN</td>\n",
       "      <td>NaN</td>\n",
       "      <td>NaN</td>\n",
       "    </tr>\n",
       "    <tr>\n",
       "      <th>min</th>\n",
       "      <td>1.000000</td>\n",
       "      <td>1.442055e+08</td>\n",
       "      <td>4.000000e+00</td>\n",
       "      <td>0.000000</td>\n",
       "      <td>NaN</td>\n",
       "      <td>0.001900</td>\n",
       "      <td>30.000000</td>\n",
       "      <td>NaN</td>\n",
       "      <td>0.000000</td>\n",
       "      <td>-9.949300</td>\n",
       "      <td>...</td>\n",
       "      <td>-85.148200</td>\n",
       "      <td>-105.385000</td>\n",
       "      <td>-118.955000</td>\n",
       "      <td>NaN</td>\n",
       "      <td>NaN</td>\n",
       "      <td>NaN</td>\n",
       "      <td>NaN</td>\n",
       "      <td>NaN</td>\n",
       "      <td>NaN</td>\n",
       "      <td>NaN</td>\n",
       "    </tr>\n",
       "    <tr>\n",
       "      <th>25%</th>\n",
       "      <td>2373.500000</td>\n",
       "      <td>1.442094e+08</td>\n",
       "      <td>7.650500e+03</td>\n",
       "      <td>0.000000</td>\n",
       "      <td>NaN</td>\n",
       "      <td>7.497800</td>\n",
       "      <td>71.377850</td>\n",
       "      <td>NaN</td>\n",
       "      <td>0.000000</td>\n",
       "      <td>-5.513700</td>\n",
       "      <td>...</td>\n",
       "      <td>-3.998250</td>\n",
       "      <td>-2.833925</td>\n",
       "      <td>-0.586900</td>\n",
       "      <td>NaN</td>\n",
       "      <td>NaN</td>\n",
       "      <td>NaN</td>\n",
       "      <td>NaN</td>\n",
       "      <td>NaN</td>\n",
       "      <td>NaN</td>\n",
       "      <td>NaN</td>\n",
       "    </tr>\n",
       "    <tr>\n",
       "      <th>50%</th>\n",
       "      <td>4867.000000</td>\n",
       "      <td>1.442119e+08</td>\n",
       "      <td>2.008700e+04</td>\n",
       "      <td>0.000000</td>\n",
       "      <td>NaN</td>\n",
       "      <td>21.678900</td>\n",
       "      <td>93.998700</td>\n",
       "      <td>NaN</td>\n",
       "      <td>0.000000</td>\n",
       "      <td>-4.763700</td>\n",
       "      <td>...</td>\n",
       "      <td>-0.327000</td>\n",
       "      <td>0.688650</td>\n",
       "      <td>1.207450</td>\n",
       "      <td>NaN</td>\n",
       "      <td>NaN</td>\n",
       "      <td>NaN</td>\n",
       "      <td>NaN</td>\n",
       "      <td>NaN</td>\n",
       "      <td>NaN</td>\n",
       "      <td>NaN</td>\n",
       "    </tr>\n",
       "    <tr>\n",
       "      <th>75%</th>\n",
       "      <td>7273.500000</td>\n",
       "      <td>1.704649e+08</td>\n",
       "      <td>1.275740e+05</td>\n",
       "      <td>0.000000</td>\n",
       "      <td>NaN</td>\n",
       "      <td>32.520150</td>\n",
       "      <td>120.362500</td>\n",
       "      <td>NaN</td>\n",
       "      <td>0.000000</td>\n",
       "      <td>-4.463700</td>\n",
       "      <td>...</td>\n",
       "      <td>3.349050</td>\n",
       "      <td>5.516600</td>\n",
       "      <td>13.912625</td>\n",
       "      <td>NaN</td>\n",
       "      <td>NaN</td>\n",
       "      <td>NaN</td>\n",
       "      <td>NaN</td>\n",
       "      <td>NaN</td>\n",
       "      <td>NaN</td>\n",
       "      <td>NaN</td>\n",
       "    </tr>\n",
       "    <tr>\n",
       "      <th>max</th>\n",
       "      <td>9666.000000</td>\n",
       "      <td>2.519200e+08</td>\n",
       "      <td>1.666423e+08</td>\n",
       "      <td>99.000000</td>\n",
       "      <td>NaN</td>\n",
       "      <td>11220.200000</td>\n",
       "      <td>461.822000</td>\n",
       "      <td>NaN</td>\n",
       "      <td>99.000000</td>\n",
       "      <td>-1.950000</td>\n",
       "      <td>...</td>\n",
       "      <td>169.346000</td>\n",
       "      <td>169.969000</td>\n",
       "      <td>132.419000</td>\n",
       "      <td>NaN</td>\n",
       "      <td>NaN</td>\n",
       "      <td>NaN</td>\n",
       "      <td>NaN</td>\n",
       "      <td>NaN</td>\n",
       "      <td>NaN</td>\n",
       "      <td>NaN</td>\n",
       "    </tr>\n",
       "  </tbody>\n",
       "</table>\n",
       "<p>8 rows × 1892 columns</p>\n",
       "</div>"
      ],
      "text/plain": [
       "       PUBCHEM_RESULT_TAG   PUBCHEM_SID   PUBCHEM_CID  PUBCHEM_ACTIVITY_SCORE  \\\n",
       "count         8667.000000  8.667000e+03  8.667000e+03             8667.000000   \n",
       "mean          4839.775932  1.544132e+08  3.719843e+06                8.646821   \n",
       "std           2803.022750  2.213114e+07  1.486420e+07               22.207256   \n",
       "min              1.000000  1.442055e+08  4.000000e+00                0.000000   \n",
       "25%           2373.500000  1.442094e+08  7.650500e+03                0.000000   \n",
       "50%           4867.000000  1.442119e+08  2.008700e+04                0.000000   \n",
       "75%           7273.500000  1.704649e+08  1.275740e+05                0.000000   \n",
       "max           9666.000000  2.519200e+08  1.666423e+08               99.000000   \n",
       "\n",
       "       PUBCHEM_ASSAYDATA_COMMENT  Potency-Replicate_1  Efficacy-Replicate_1  \\\n",
       "count                        0.0          1758.000000           1758.000000   \n",
       "mean                         NaN            30.782330            101.270710   \n",
       "std                          NaN           267.766047             50.693578   \n",
       "min                          NaN             0.001900             30.000000   \n",
       "25%                          NaN             7.497800             71.377850   \n",
       "50%                          NaN            21.678900             93.998700   \n",
       "75%                          NaN            32.520150            120.362500   \n",
       "max                          NaN         11220.200000            461.822000   \n",
       "\n",
       "       Analysis Comment-Replicate_1  Activity_Score-Replicate_1  \\\n",
       "count                           0.0                 8667.000000   \n",
       "mean                            NaN                    8.646821   \n",
       "std                             NaN                   22.207256   \n",
       "min                             NaN                    0.000000   \n",
       "25%                             NaN                    0.000000   \n",
       "50%                             NaN                    0.000000   \n",
       "75%                             NaN                    0.000000   \n",
       "max                             NaN                   99.000000   \n",
       "\n",
       "       Fit_LogAC50-Replicate_1  ...  Activity at 18.95 uM-Replicate_51  \\\n",
       "count              5350.000000  ...                          18.000000   \n",
       "mean                 -5.234019  ...                           4.015583   \n",
       "std                   1.220537  ...                          47.279303   \n",
       "min                  -9.949300  ...                         -85.148200   \n",
       "25%                  -5.513700  ...                          -3.998250   \n",
       "50%                  -4.763700  ...                          -0.327000   \n",
       "75%                  -4.463700  ...                           3.349050   \n",
       "max                  -1.950000  ...                         169.346000   \n",
       "\n",
       "       Activity at 42.46 uM-Replicate_51  Activity at 92.41 uM-Replicate_51  \\\n",
       "count                          18.000000                          18.000000   \n",
       "mean                            3.683639                           5.931661   \n",
       "std                            51.303823                          45.357903   \n",
       "min                          -105.385000                        -118.955000   \n",
       "25%                            -2.833925                          -0.586900   \n",
       "50%                             0.688650                           1.207450   \n",
       "75%                             5.516600                          13.912625   \n",
       "max                           169.969000                         132.419000   \n",
       "\n",
       "       Activity at 240.3 uM-Replicate_51  Activity at 872.4 uM-Replicate_51  \\\n",
       "count                                0.0                                0.0   \n",
       "mean                                 NaN                                NaN   \n",
       "std                                  NaN                                NaN   \n",
       "min                                  NaN                                NaN   \n",
       "25%                                  NaN                                NaN   \n",
       "50%                                  NaN                                NaN   \n",
       "75%                                  NaN                                NaN   \n",
       "max                                  NaN                                NaN   \n",
       "\n",
       "       Activity at 1849.0 uM-Replicate_51  Activity at 4135.0 uM-Replicate_51  \\\n",
       "count                                 0.0                                 0.0   \n",
       "mean                                  NaN                                 NaN   \n",
       "std                                   NaN                                 NaN   \n",
       "min                                   NaN                                 NaN   \n",
       "25%                                   NaN                                 NaN   \n",
       "50%                                   NaN                                 NaN   \n",
       "75%                                   NaN                                 NaN   \n",
       "max                                   NaN                                 NaN   \n",
       "\n",
       "       Activity at 9246.0 uM-Replicate_51  \\\n",
       "count                                 0.0   \n",
       "mean                                  NaN   \n",
       "std                                   NaN   \n",
       "min                                   NaN   \n",
       "25%                                   NaN   \n",
       "50%                                   NaN   \n",
       "75%                                   NaN   \n",
       "max                                   NaN   \n",
       "\n",
       "       Activity at 20670.0 uM-Replicate_51  \\\n",
       "count                                  0.0   \n",
       "mean                                   NaN   \n",
       "std                                    NaN   \n",
       "min                                    NaN   \n",
       "25%                                    NaN   \n",
       "50%                                    NaN   \n",
       "75%                                    NaN   \n",
       "max                                    NaN   \n",
       "\n",
       "       Activity at 46230.0 uM-Replicate_51  \n",
       "count                                  0.0  \n",
       "mean                                   NaN  \n",
       "std                                    NaN  \n",
       "min                                    NaN  \n",
       "25%                                    NaN  \n",
       "50%                                    NaN  \n",
       "75%                                    NaN  \n",
       "max                                    NaN  \n",
       "\n",
       "[8 rows x 1892 columns]"
      ]
     },
     "execution_count": 17,
     "metadata": {},
     "output_type": "execute_result"
    }
   ],
   "source": [
    "# estrogen_related_receptor_antogonist_clean_noinconclusive['PUBCHEM_ACTIVITY_SCORE']\n",
    "estrogen_related_receptor_antogonist_clean_noinconclusive.describe()"
   ]
  },
  {
   "cell_type": "markdown",
   "metadata": {},
   "source": [
    "- Typically we want to also remove weak compounds (compounds which are not very active)\n",
    "- should also look at toxicity -- drugs should not be toxic"
   ]
  },
  {
   "cell_type": "markdown",
   "metadata": {},
   "source": [
    "## CAPSTONE\n",
    "\n",
    "- create python code that captures a molecule's capacity to be a halogen bond donor\n",
    "- use code to calculate the property for the dataset\n",
    "- filter out compounds that do not have the halogen bond Halogen bond is a bond between two non-covelently bound atoms, where donor has a positively charged sigma hole, and acceptor is a ILewis base. The view on what a good halogen donor group is can vary, one of the accepted definitions is a halogen atom that is not fluorine, since fluorine sigma hole is neutralized. [from Journal of Molecular Modeling volume 13, pages291-296 (2007)]"
   ]
  },
  {
   "cell_type": "code",
   "execution_count": 18,
   "metadata": {},
   "outputs": [],
   "source": [
    "import rdkit as rd\n",
    "from rdkit import Chem\n",
    "from rdkit.Chem import AllChem\n",
    "from rdkit.Chem import Draw\n",
    "import copy\n",
    "from rdkit.Chem import PandasTools\n",
    "from rdkit.Chem import Descriptors\n",
    "from rdkit.Chem import rdMolDescriptors\n",
    "from rdkit. Chem import GraphDescriptors\n",
    "from rdkit import DataStructs\n",
    "from rdkit.ML.Descriptors import MoleculeDescriptors\n",
    "import numpy as np\n",
    "import pandas as pd\n",
    "import pickle"
   ]
  },
  {
   "cell_type": "code",
   "execution_count": 19,
   "metadata": {},
   "outputs": [],
   "source": [
    "# Function to check if a molecule has a halogen bond donor\n",
    "def has_halogen_bond_donor(mol):\n",
    "    \"\"\"\n",
    "    Check if a molecule has a halogen atom (Cl, Br, I) that can act as a halogen bond donor.\n",
    "    \"\"\"\n",
    "    halogen_atoms = ['Cl', 'Br', 'I']\n",
    "    for atom in mol.GetAtoms():\n",
    "        if atom.GetSymbol() in halogen_atoms:\n",
    "            return True\n",
    "    return False\n",
    "\n",
    "# Function to calculate the halogen bond donor property for a dataset\n",
    "def calculate_halogen_bond_donor_property(dataset):\n",
    "    \"\"\"\n",
    "    Calculate the halogen bond donor property for a dataset of molecules.\n",
    "    \"\"\"\n",
    "    dataset['HalogenBondDonor'] = dataset['Mol'].apply(has_halogen_bond_donor)\n",
    "    return dataset\n",
    "\n",
    "# Function to filter out compounds that do not have the halogen bond donor property\n",
    "def filter_halogen_bond_donors(dataset):\n",
    "    \"\"\"\n",
    "    Filter out compounds that do not have the halogen bond donor property.\n",
    "    \"\"\"\n",
    "    filtered_dataset = dataset[dataset['HalogenBondDonor']]\n",
    "    return filtered_dataset"
   ]
  },
  {
   "cell_type": "code",
   "execution_count": 20,
   "metadata": {},
   "outputs": [
    {
     "data": {
      "text/html": [
       "<div>\n",
       "<style scoped>\n",
       "    .dataframe tbody tr th:only-of-type {\n",
       "        vertical-align: middle;\n",
       "    }\n",
       "\n",
       "    .dataframe tbody tr th {\n",
       "        vertical-align: top;\n",
       "    }\n",
       "\n",
       "    .dataframe thead th {\n",
       "        text-align: right;\n",
       "    }\n",
       "</style>\n",
       "<table border=\"1\" class=\"dataframe\">\n",
       "  <thead>\n",
       "    <tr style=\"text-align: right;\">\n",
       "      <th></th>\n",
       "      <th>SMILES</th>\n",
       "      <th>CHEMBLID</th>\n",
       "      <th>Inhibition, %</th>\n",
       "      <th>ID</th>\n",
       "      <th>Mol</th>\n",
       "    </tr>\n",
       "  </thead>\n",
       "  <tbody>\n",
       "    <tr>\n",
       "      <th>0</th>\n",
       "      <td>CN1C(C(=O)Nc2ncc(C)s2)C(=O)c2ccc(C)cc2S1(=O)=O</td>\n",
       "      <td>CHEMBL366429</td>\n",
       "      <td>35</td>\n",
       "      <td>CHEMBL366429</td>\n",
       "      <td>&lt;rdkit.Chem.rdchem.Mol object at 0x137d480b0&gt;</td>\n",
       "    </tr>\n",
       "  </tbody>\n",
       "</table>\n",
       "</div>"
      ],
      "text/plain": [
       "                                           SMILES      CHEMBLID Inhibition, %  \\\n",
       "0  CN1C(C(=O)Nc2ncc(C)s2)C(=O)c2ccc(C)cc2S1(=O)=O  CHEMBL366429            35   \n",
       "\n",
       "             ID                                            Mol  \n",
       "0  CHEMBL366429  <rdkit.Chem.rdchem.Mol object at 0x137d480b0>  "
      ]
     },
     "execution_count": 20,
     "metadata": {},
     "output_type": "execute_result"
    }
   ],
   "source": [
    "cox2_sdf = r'assets/COX2_inhibitors_final.sdf'\n",
    "df = PandasTools.LoadSDF(cox2_sdf, molColName='Mol')\n",
    "df[:1]"
   ]
  },
  {
   "cell_type": "code",
   "execution_count": 21,
   "metadata": {},
   "outputs": [
    {
     "data": {
      "image/png": "[encoded data removed]",
      "text/plain": [
       "<IPython.core.display.Image object>"
      ]
     },
     "execution_count": 21,
     "metadata": {},
     "output_type": "execute_result"
    }
   ],
   "source": [
    "# has_halogen_bond_donor(df[\"Mol\"][0])\n",
    "df = calculate_halogen_bond_donor_property(df)\n",
    "filtered_dataset = filter_halogen_bond_donors(df)\n",
    "\n",
    "Draw.MolsToGridImage(filtered_dataset['Mol'].iloc[:5], legends=filtered_dataset['SMILES'].iloc[:5].tolist())\n"
   ]
  },
  {
   "cell_type": "code",
   "execution_count": 24,
   "metadata": {},
   "outputs": [],
   "source": [
    "df.to_csv(r\"/Users/marcusc/Documents/Courses/neovarsity_chemoinformatics_2024/assets/chap8_output_halogen.csv\")"
   ]
  },
  {
   "cell_type": "markdown",
   "metadata": {},
   "source": []
  }
 ],
 "metadata": {
  "kernelspec": {
   "display_name": "neovarsity",
   "language": "python",
   "name": "python3"
  },
  "language_info": {
   "codemirror_mode": {
    "name": "ipython",
    "version": 3
   },
   "file_extension": ".py",
   "mimetype": "text/x-python",
   "name": "python",
   "nbconvert_exporter": "python",
   "pygments_lexer": "ipython3",
   "version": "3.10.15"
  }
 },
 "nbformat": 4,
 "nbformat_minor": 2
}
