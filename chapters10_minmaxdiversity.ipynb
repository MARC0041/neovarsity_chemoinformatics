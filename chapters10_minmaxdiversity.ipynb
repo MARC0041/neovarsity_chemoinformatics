{
 "cells": [
  {
   "cell_type": "markdown",
   "metadata": {},
   "source": [
    "<span style=\"color:Red\">MinMax diversity</span> is a particular case of <span style=\"color:Red\">Kennard-Stone algorithm</span>, the purpose of these algorithms is to split the dataset into two parts based on user-selected factors, e.g. molecular descriptors. The main purpose of this procedure in cheminformatics is to get the test (or validation, or optimization set) for Machine-learning, such as QSAR modelling.\n",
    "\n",
    "The gist of the algorithm is an iterative selection of new training set candidates from the remaining dataset, so that every new candidate had the highest out of lowest dissimilarities between the candidates and all of the training set compounds. The procedure is repeated until the desired split ratio (e. g. 75% training, 25% test is achieved). The goal of the splitting is to create the training set that comprises the full diversity of the overall dataset, whereas test set does not have compounds that are too different from the training set. <u>It is important to mention that the results of the splitting are quite dependent on similarity metric and descriptor space.<u>"
   ]
  },
  {
   "cell_type": "code",
   "execution_count": 1,
   "metadata": {},
   "outputs": [],
   "source": [
    "import rdkit as rd\n",
    "from rdkit import Chem\n",
    "from rdkit.Chem import AllChem\n",
    "from rdkit.Chem import Draw\n",
    "import copy\n",
    "from rdkit.Chem import PandasTools\n",
    "from rdkit.Chem import Descriptors\n",
    "from rdkit.Chem import rdMolDescriptors\n",
    "from rdkit.Chem import MACCSkeys\n",
    "from rdkit.Chem import GraphDescriptors\n",
    "from rdkit import DataStructs\n",
    "from rdkit.ML.Descriptors import MoleculeDescriptors\n",
    "import numpy as np\n",
    "import pandas as pd\n",
    "import pickle"
   ]
  },
  {
   "cell_type": "code",
   "execution_count": 2,
   "metadata": {},
   "outputs": [],
   "source": [
    "from rdkit.Chem import rdFMCS\n",
    "cox2_sdf = r'assets/COX2_inhibitors_final.sdf'\n",
    "df = PandasTools.LoadSDF(cox2_sdf, molColName='Mol')\n",
    "df[\"Inhibition, %\"] = df[\"Inhibition, %\"].astype(int)"
   ]
  },
  {
   "cell_type": "code",
   "execution_count": 8,
   "metadata": {},
   "outputs": [
    {
     "data": {
      "text/html": [
       "<div>\n",
       "<style scoped>\n",
       "    .dataframe tbody tr th:only-of-type {\n",
       "        vertical-align: middle;\n",
       "    }\n",
       "\n",
       "    .dataframe tbody tr th {\n",
       "        vertical-align: top;\n",
       "    }\n",
       "\n",
       "    .dataframe thead th {\n",
       "        text-align: right;\n",
       "    }\n",
       "</style>\n",
       "<table border=\"1\" class=\"dataframe\">\n",
       "  <thead>\n",
       "    <tr style=\"text-align: right;\">\n",
       "      <th></th>\n",
       "      <th>NumAromaticRings</th>\n",
       "      <th>NumValenceElectrons</th>\n",
       "      <th>BalabanJ</th>\n",
       "      <th>MW</th>\n",
       "    </tr>\n",
       "    <tr>\n",
       "      <th>CHEMBLID</th>\n",
       "      <th></th>\n",
       "      <th></th>\n",
       "      <th></th>\n",
       "      <th></th>\n",
       "    </tr>\n",
       "  </thead>\n",
       "  <tbody>\n",
       "    <tr>\n",
       "      <th>CHEMBL366429</th>\n",
       "      <td>2.0</td>\n",
       "      <td>126.0</td>\n",
       "      <td>2.02</td>\n",
       "      <td>365.1</td>\n",
       "    </tr>\n",
       "    <tr>\n",
       "      <th>CHEMBL176216</th>\n",
       "      <td>2.0</td>\n",
       "      <td>146.0</td>\n",
       "      <td>1.79</td>\n",
       "      <td>458.0</td>\n",
       "    </tr>\n",
       "    <tr>\n",
       "      <th>CHEMBL174680</th>\n",
       "      <td>3.0</td>\n",
       "      <td>136.0</td>\n",
       "      <td>1.86</td>\n",
       "      <td>380.1</td>\n",
       "    </tr>\n",
       "    <tr>\n",
       "      <th>CHEMBL176357</th>\n",
       "      <td>3.0</td>\n",
       "      <td>138.0</td>\n",
       "      <td>1.83</td>\n",
       "      <td>421.0</td>\n",
       "    </tr>\n",
       "    <tr>\n",
       "      <th>CHEMBL369840</th>\n",
       "      <td>2.0</td>\n",
       "      <td>142.0</td>\n",
       "      <td>2.13</td>\n",
       "      <td>465.9</td>\n",
       "    </tr>\n",
       "  </tbody>\n",
       "</table>\n",
       "</div>"
      ],
      "text/plain": [
       "              NumAromaticRings  NumValenceElectrons  BalabanJ     MW\n",
       "CHEMBLID                                                            \n",
       "CHEMBL366429               2.0                126.0      2.02  365.1\n",
       "CHEMBL176216               2.0                146.0      1.79  458.0\n",
       "CHEMBL174680               3.0                136.0      1.86  380.1\n",
       "CHEMBL176357               3.0                138.0      1.83  421.0\n",
       "CHEMBL369840               2.0                142.0      2.13  465.9"
      ]
     },
     "execution_count": 8,
     "metadata": {},
     "output_type": "execute_result"
    }
   ],
   "source": [
    "descr_df = np. full((df.shape[0], 4), 0, dtype=\"float64\")\n",
    "for i in range(0, len(df.index)):\n",
    "    descr_bundle = []\n",
    "    mol = df[ 'Mol'][i]\n",
    "    descr_bundle.append(rdMolDescriptors.CalcNumAromaticRings(mol))\n",
    "    descr_bundle.append(Descriptors.NumValenceElectrons(mol))\n",
    "    descr_bundle.append(round(GraphDescriptors.BalabanJ(mol), 2))\n",
    "    descr_bundle.append(round(rdMolDescriptors.CalcExactMolWt(mol), 1))\n",
    "    descr_df[i,0:len(descr_bundle)] = descr_bundle\n",
    "descr_df = pd.DataFrame(descr_df, index = df[ 'CHEMBLID'])\n",
    "### naming the descr df\n",
    "descr_names = ['NumAromaticRings', 'NumValenceElectrons','BalabanJ', 'MW']\n",
    "descr_df.columns = descr_names\n",
    "descr_df.head()"
   ]
  },
  {
   "cell_type": "code",
   "execution_count": 9,
   "metadata": {},
   "outputs": [],
   "source": [
    "### structural keys\n",
    "finger_df = np. full((df.shape[0], 167), 0, dtype=\"float64\" )\n",
    "for i in range(0, len(df. index)) :\n",
    "    finger_df[i, :] = np.array(rdMolDescriptors.GetMACCSKeysFingerprint(df['Mol'][i]))\n",
    "finger_df = pd. DataFrame(finger_df, index = df[ 'CHEMBLID' ])\n",
    "del (finger_df[0]) # removing Ithe empty coLumn\n",
    "MACCSkeys_names = list(MACCSkeys. smartsPatts.values())\n",
    "finger_df.columns = MACCSkeys_names"
   ]
  },
  {
   "cell_type": "code",
   "execution_count": null,
   "metadata": {},
   "outputs": [
    {
     "data": {
      "text/plain": [
       "Index(['Unnamed: 0', 'FpDensityMorgan1', 'HeavyAtomMolWt',\n",
       "       'MaxAbsPartialCharge', 'MinPartialCharge', 'MolWt',\n",
       "       'NumValenceElectrons', 'Chi0n', 'Chi1v', 'Chi2v', 'FractionCSP3',\n",
       "       'HallKierAlpha', 'Kappa1', 'Kappa2', 'NumAliphaticCarbocycles',\n",
       "       'NumAliphaticHeterocycles', 'NumAliphaticRings', 'NumAmideBonds',\n",
       "       'NumAromaticCarbocycles', 'NumAromaticHeterocycles', 'NumAromaticRings',\n",
       "       'NumAtomStereoCenters', 'NumHBA', 'NumHBD', 'NumHeteroatoms',\n",
       "       'NumLipinskiHBA', 'NumRings', 'NumSaturatedHeterocycles', 'BertzCT',\n",
       "       '('[#6]~[#16]~[#7]', 0)', '('[#16R]', 0)',\n",
       "       '('[#7]~[#6](~[#8])~[#7]', 0)', '('[#7]~[#6](~[#6])~[#7]', 0)',\n",
       "       '('F', 0)', '('[!#6;!#1;!H0]~*~[!#6;!#1;!H0]', 0)', '('Br', 0)',\n",
       "       '('[#16]~*~[#7]', 0)', '('[#7]~[#7]', 0)',\n",
       "       '('[!#6;!#1;!H0]~*~*~*~[!#6;!#1;!H0]', 0)',\n",
       "       '('[!#6;!#1;!H0]~*~*~[!#6;!#1;!H0]', 0)', '('[#8]~[#16]~[#8]', 0)',\n",
       "       '('[#8R]', 0)', '('*@*!@*@*', 0)', '('*@*!@[#16]', 0)', '('c:n', 0)',\n",
       "       '('[#6]~[#6](~[#6])(~[#6])~*', 0)', '('[!#6;!#1]~[!#6;!#1;!H0]', 0)',\n",
       "       '('[#7]~[#8]', 0)', '('[#8]~*~*~[#8]', 0)', '('*!@[#7]@*', 0)',\n",
       "       '('[#7]~*~[#7]', 0)', '('[#7]~*~*~[#7]', 0)', '('[#7]~*~*~*~[#7]', 0)',\n",
       "       '('[!#6;!#1]1~*~*~*~*~1', 0)', '('[#6]~[#7](~[#6])~[#6]', 0)',\n",
       "       '('[F,Cl,Br,I]!@*@*', 0)', '('[#8]~*~*~*~[#8]', 0)',\n",
       "       '('[$([!#6;!#1;!H0]~*~*~[CH2]~*),$([!#6;!#1;!H0;R]1@[R]@[R]@[CH2;R]1),$([!#6;!#1;!H0]~[R]1@[R]@[CH2;R]1)]', 0)',\n",
       "       '('[$([!#6;!#1;!H0]~*~*~*~[CH2]~*),$([!#6;!#1;!H0;R]1@[R]@[R]@[R]@[CH2;R]1),$([!#6;!#1;!H0]~[R]1@[R]@[R]@[CH2;R]1),$([!#6;!#1;!H0]~*~[R]1@[R]@[CH2;R]1)]', 0)',\n",
       "       '('[#8]~[#6](~[#7])~[#6]', 0)', '('[!#6;!#1]~[CH3]', 0)',\n",
       "       '('*~[CH2]~[#7]', 0)', '('[!#6;!#1]~*(~[!#6;!#1])~[!#6;!#1]', 0)',\n",
       "       '('[#7]~*~[CH2]~*', 0)', '('[CH3]~[CH2]~*', 0)',\n",
       "       '('[CH3]~*~[CH2]~*', 0)', '('[!#6;R]', 1)', '('[#7;R]', 0)',\n",
       "       '('*!@[#8]!@*', 0)', '('[#8]~*~[CH2]~*', 0)', '('[O;!H0]', 0)',\n",
       "       '('[CH3]', 2)', '('*1~*~*~*~*~*~1', 1)', '('[#8]', 2)',\n",
       "       '('[C;H3,H4]', 1)', '('[#8]~[#6](~[#6])~[#6]', 0)',\n",
       "       '('[!#6;!#1]~[CH2]~*', 0)', '('[C;H3,H4]', 0)', 'Halogen bond donor'],\n",
       "      dtype='object')"
      ]
     },
     "execution_count": 13,
     "metadata": {},
     "output_type": "execute_result"
    }
   ],
   "source": [
    "# # capstone descr\n",
    "# capstone_desc_path = SOME_PATH # r\"/Users/marcusc/Documents/Courses/neovarsity_chemoinformatics_2024/assets/comblib_descr.csv\"\n",
    "# capstone_desc = pd.read_csv(capstone_desc_path, index_col='CHEMBLID')\n",
    "# capstone_desc.head()"
   ]
  },
  {
   "cell_type": "code",
   "execution_count": null,
   "metadata": {},
   "outputs": [],
   "source": []
  }
 ],
 "metadata": {
  "kernelspec": {
   "display_name": "neovarsity",
   "language": "python",
   "name": "python3"
  },
  "language_info": {
   "codemirror_mode": {
    "name": "ipython",
    "version": 3
   },
   "file_extension": ".py",
   "mimetype": "text/x-python",
   "name": "python",
   "nbconvert_exporter": "python",
   "pygments_lexer": "ipython3",
   "version": "3.10.15"
  }
 },
 "nbformat": 4,
 "nbformat_minor": 2
}
